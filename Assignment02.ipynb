{
 "cells": [
  {
   "cell_type": "markdown",
   "metadata": {},
   "source": [
    "### Import packages"
   ]
  },
  {
   "cell_type": "code",
   "execution_count": 44,
   "metadata": {},
   "outputs": [],
   "source": [
    "import pandas as pd\n",
    "from cassandra.cluster import Cluster"
   ]
  },
  {
   "cell_type": "markdown",
   "metadata": {},
   "source": [
    "### Create a session connection to Cassandra cluster"
   ]
  },
  {
   "cell_type": "code",
   "execution_count": 45,
   "metadata": {},
   "outputs": [],
   "source": [
    "clstr = Cluster()\n",
    "session = clstr.connect()"
   ]
  },
  {
   "cell_type": "code",
   "execution_count": 46,
   "metadata": {},
   "outputs": [
    {
     "name": "stdout",
     "output_type": "stream",
     "text": [
      "bd23\n",
      "system\n",
      "system_auth\n",
      "system_distributed\n",
      "system_schema\n",
      "system_traces\n",
      "system_views\n",
      "system_virtual_schema\n",
      "w04python\n"
     ]
    }
   ],
   "source": [
    "rows = session.execute(\"desc keyspaces\")\n",
    "for row in rows:\n",
    "    print(f\"{row[0]}\")"
   ]
  },
  {
   "cell_type": "code",
   "execution_count": 47,
   "metadata": {},
   "outputs": [
    {
     "data": {
      "text/plain": [
       "<cassandra.cluster.ResultSet at 0x7f1c0815b710>"
      ]
     },
     "execution_count": 47,
     "metadata": {},
     "output_type": "execute_result"
    }
   ],
   "source": [
    "session.execute(\"CREATE KEYSPACE IF NOT EXISTS bd23 WITH REPLICATION = {'class':'SimpleStrategy', 'replication_factor':2}\")"
   ]
  },
  {
   "cell_type": "code",
   "execution_count": 48,
   "metadata": {},
   "outputs": [
    {
     "name": "stdout",
     "output_type": "stream",
     "text": [
      "bd23\n",
      "system\n",
      "system_auth\n",
      "system_distributed\n",
      "system_schema\n",
      "system_traces\n",
      "system_views\n",
      "system_virtual_schema\n",
      "w04python\n"
     ]
    }
   ],
   "source": [
    "rows = session.execute(\"desc keyspaces\")\n",
    "for row in rows:\n",
    "    print(f\"{row[0]}\")"
   ]
  },
  {
   "cell_type": "code",
   "execution_count": 49,
   "metadata": {},
   "outputs": [
    {
     "data": {
      "text/plain": [
       "<cassandra.cluster.ResultSet at 0x7f1c08159110>"
      ]
     },
     "execution_count": 49,
     "metadata": {},
     "output_type": "execute_result"
    }
   ],
   "source": [
    "session.execute(\"\"\"\n",
    "CREATE TABLE IF NOT EXISTS bd23.inventory_info ( \n",
    "    SKU INT PRIMARY KEY,\n",
    "    warehouse_num INT,\n",
    "    description TEXT, \n",
    "    name TEXT,\n",
    ");\n",
    "\"\"\")"
   ]
  },
  {
   "cell_type": "code",
   "execution_count": 50,
   "metadata": {},
   "outputs": [
    {
     "data": {
      "text/html": [
       "<div>\n",
       "<style scoped>\n",
       "    .dataframe tbody tr th:only-of-type {\n",
       "        vertical-align: middle;\n",
       "    }\n",
       "\n",
       "    .dataframe tbody tr th {\n",
       "        vertical-align: top;\n",
       "    }\n",
       "\n",
       "    .dataframe thead th {\n",
       "        text-align: right;\n",
       "    }\n",
       "</style>\n",
       "<table border=\"1\" class=\"dataframe\">\n",
       "  <thead>\n",
       "    <tr style=\"text-align: right;\">\n",
       "      <th></th>\n",
       "      <th>SKU</th>\n",
       "      <th>warehouse_num</th>\n",
       "      <th>description</th>\n",
       "      <th>name</th>\n",
       "    </tr>\n",
       "  </thead>\n",
       "  <tbody>\n",
       "    <tr>\n",
       "      <th>0</th>\n",
       "      <td>7777</td>\n",
       "      <td>123</td>\n",
       "      <td>'Allergy relief'</td>\n",
       "      <td>'cetrzn'</td>\n",
       "    </tr>\n",
       "    <tr>\n",
       "      <th>1</th>\n",
       "      <td>8672</td>\n",
       "      <td>123</td>\n",
       "      <td>'Cough and cold'</td>\n",
       "      <td>'Nyquill'</td>\n",
       "    </tr>\n",
       "    <tr>\n",
       "      <th>2</th>\n",
       "      <td>5634</td>\n",
       "      <td>456</td>\n",
       "      <td>'Headache'</td>\n",
       "      <td>'Dayquill'</td>\n",
       "    </tr>\n",
       "    <tr>\n",
       "      <th>3</th>\n",
       "      <td>6726</td>\n",
       "      <td>349</td>\n",
       "      <td>'Body Pains'</td>\n",
       "      <td>'Tylenol'</td>\n",
       "    </tr>\n",
       "    <tr>\n",
       "      <th>4</th>\n",
       "      <td>7898</td>\n",
       "      <td>789</td>\n",
       "      <td>'Cough Syrup'</td>\n",
       "      <td>'RObitsu'</td>\n",
       "    </tr>\n",
       "  </tbody>\n",
       "</table>\n",
       "</div>"
      ],
      "text/plain": [
       "    SKU  warehouse_num       description        name\n",
       "0  7777            123  'Allergy relief'    'cetrzn'\n",
       "1  8672            123  'Cough and cold'   'Nyquill'\n",
       "2  5634            456        'Headache'  'Dayquill'\n",
       "3  6726            349      'Body Pains'   'Tylenol'\n",
       "4  7898            789     'Cough Syrup'   'RObitsu'"
      ]
     },
     "execution_count": 50,
     "metadata": {},
     "output_type": "execute_result"
    }
   ],
   "source": [
    "df = pd.read_csv('Assignmentcsv.csv')\n",
    "df"
   ]
  },
  {
   "cell_type": "code",
   "execution_count": 51,
   "metadata": {},
   "outputs": [
    {
     "name": "stdout",
     "output_type": "stream",
     "text": [
      "\n",
      "        INSERT INTO bd23.inventory_info (SKU,warehouse_num, description, name)     \n",
      "        VALUES (7777, 123, 'Allergy relief', 'cetrzn');\n",
      "        \n",
      "\n",
      "        INSERT INTO bd23.inventory_info (SKU,warehouse_num, description, name)     \n",
      "        VALUES (8672, 123, 'Cough and cold', 'Nyquill');\n",
      "        \n",
      "\n",
      "        INSERT INTO bd23.inventory_info (SKU,warehouse_num, description, name)     \n",
      "        VALUES (5634, 456, 'Headache', 'Dayquill');\n",
      "        \n",
      "\n",
      "        INSERT INTO bd23.inventory_info (SKU,warehouse_num, description, name)     \n",
      "        VALUES (6726, 349, 'Body Pains', 'Tylenol');\n",
      "        \n",
      "\n",
      "        INSERT INTO bd23.inventory_info (SKU,warehouse_num, description, name)     \n",
      "        VALUES (7898, 789, 'Cough Syrup', 'RObitsu');\n",
      "        \n"
     ]
    }
   ],
   "source": [
    "for index, row in df.iterrows():\n",
    "    print(f\"\"\"\n",
    "        INSERT INTO bd23.inventory_info (SKU,warehouse_num, description, name)     \n",
    "        VALUES ({row[0]}, {row[1]}, {row[2]}, {row[3]});\n",
    "        \"\"\"\n",
    "       )\n",
    "    session.execute(f\"\"\"\n",
    "        INSERT INTO bd23.inventory_info (SKU,warehouse_num, description, name)    \n",
    "        VALUES ({row[0]}, {row[1]}, {row[2]}, {row[3]});\n",
    "        \"\"\"\n",
    "       )"
   ]
  },
  {
   "cell_type": "code",
   "execution_count": 55,
   "metadata": {},
   "outputs": [
    {
     "name": "stdout",
     "output_type": "stream",
     "text": [
      "SKU=7777, warehouse_num123, description=Allergy relief, name=cetrzn\n",
      "SKU=8672, warehouse_num123, description=Cough and cold, name=Nyquill\n",
      "SKU=7898, warehouse_num789, description=Cough Syrup, name=RObitsu\n",
      "SKU=6726, warehouse_num349, description=Body Pains, name=Tylenol\n",
      "SKU=5634, warehouse_num456, description=Headache, name=Dayquill\n"
     ]
    }
   ],
   "source": [
    "rows = session.execute(\"select (SKU,warehouse_num, description, name) from bd23.inventory_info\")\n",
    "for row in rows:\n",
    "    print(f\"SKU={row[0][0]}, warehouse_num{row[0][1]}, description={row[0][2]}, name={row[0][3]}\")"
   ]
  },
  {
   "cell_type": "markdown",
   "metadata": {},
   "source": [
    "Search for all products located at warehouse_num =123"
   ]
  },
  {
   "cell_type": "code",
   "execution_count": 57,
   "metadata": {},
   "outputs": [
    {
     "name": "stdout",
     "output_type": "stream",
     "text": [
      "7777, 123, cetrzn\n",
      "8672, 123, Nyquill\n"
     ]
    }
   ],
   "source": [
    "rows = session.execute(\"select (SKU, warehouse_num, name) from bd23.inventory_info where warehouse_num = 123 ALLOW FILTERING\")\n",
    "for row in rows:\n",
    "    print(f\"{row[0][0]}, {row[0][1]}, {row[0][2]}\")"
   ]
  }
 ],
 "metadata": {
  "kernelspec": {
   "display_name": "bd",
   "language": "python",
   "name": "python3"
  },
  "language_info": {
   "codemirror_mode": {
    "name": "ipython",
    "version": 3
   },
   "file_extension": ".py",
   "mimetype": "text/x-python",
   "name": "python",
   "nbconvert_exporter": "python",
   "pygments_lexer": "ipython3",
   "version": "3.11.5"
  },
  "orig_nbformat": 4
 },
 "nbformat": 4,
 "nbformat_minor": 2
}
